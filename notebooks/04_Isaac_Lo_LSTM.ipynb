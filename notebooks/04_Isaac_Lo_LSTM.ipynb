{
  "nbformat": 4,
  "nbformat_minor": 0,
  "metadata": {
    "colab": {
      "name": "04-Isaac_Lo_LSTM.ipynb",
      "provenance": [],
      "machine_shape": "hm"
    },
    "kernelspec": {
      "name": "python3",
      "display_name": "Python 3"
    },
    "language_info": {
      "name": "python"
    },
    "accelerator": "GPU",
    "gpuClass": "standard"
  },
  "cells": [
    {
      "cell_type": "code",
      "execution_count": 1,
      "metadata": {
        "id": "LlGe0JwNBxrn"
      },
      "outputs": [],
      "source": [
        "import pandas as pd\n",
        "import numpy as np\n",
        "from tqdm import tqdm\n",
        "\n",
        "import torch\n",
        "from torch.utils.data import Dataset, DataLoader\n",
        "import torch.nn as nn\n",
        "import torch.optim as optim\n",
        "\n",
        "from sklearn.metrics import accuracy_score, f1_score"
      ]
    },
    {
      "cell_type": "code",
      "source": [
        "# Create device for GPU\n",
        "device = torch.device('cuda:0' if torch.cuda.is_available() else 'cpu')\n",
        "device"
      ],
      "metadata": {
        "colab": {
          "base_uri": "https://localhost:8080/"
        },
        "id": "lzQyo5-eDA72",
        "outputId": "6f578414-d45d-4768-c93f-9c3aca47b3f5"
      },
      "execution_count": 2,
      "outputs": [
        {
          "output_type": "execute_result",
          "data": {
            "text/plain": [
              "device(type='cuda', index=0)"
            ]
          },
          "metadata": {},
          "execution_count": 2
        }
      ]
    },
    {
      "cell_type": "markdown",
      "source": [
        "# Load datasets"
      ],
      "metadata": {
        "id": "lmGiw4A1DJ5P"
      }
    },
    {
      "cell_type": "code",
      "source": [
        "class TweetDataset(Dataset):\n",
        "    def __init__(self, data, vocab, max_len):\n",
        "        self.data = data\n",
        "        self.vocab = vocab\n",
        "        self.max_len = max_len\n",
        "\n",
        "    def __len__(self):\n",
        "        return len(self.data)\n",
        "\n",
        "    def __getitem__(self, idx):\n",
        "        row = self.data.iloc[idx]\n",
        "        tokens = row['tokens']\n",
        "\n",
        "        # Front paddings\n",
        "        X = torch.zeros(self.max_len)\n",
        "        for i, token in enumerate(tokens):\n",
        "            X[self.max_len - len(tokens) + i] = self.vocab.get(token, 1)\n",
        "\n",
        "        y = torch.tensor(row['label']).long()\n",
        "\n",
        "        return X.long(), y"
      ],
      "metadata": {
        "id": "_Bz-JjsVFVDC"
      },
      "execution_count": 3,
      "outputs": []
    },
    {
      "cell_type": "code",
      "source": [
        "train_ds = torch.load('/content/drive/MyDrive/TweetContextClassifier/data/PyTorchDatasets/train_wdtk_sm_ds.pt')\n",
        "test_ds = torch.load('/content/drive/MyDrive/TweetContextClassifier/data/PyTorchDatasets/test_wdtk_sm_ds.pt')"
      ],
      "metadata": {
        "id": "HULh0IhPDM1l"
      },
      "execution_count": 4,
      "outputs": []
    },
    {
      "cell_type": "code",
      "source": [
        "train_ds, test_ds"
      ],
      "metadata": {
        "colab": {
          "base_uri": "https://localhost:8080/"
        },
        "id": "rrVaKe0cF4Iq",
        "outputId": "68ea039f-c158-4d3a-cf94-6fc9c33e4cfc"
      },
      "execution_count": 5,
      "outputs": [
        {
          "output_type": "execute_result",
          "data": {
            "text/plain": [
              "(<__main__.TweetDataset at 0x7f41badb8690>,\n",
              " <__main__.TweetDataset at 0x7f41575030d0>)"
            ]
          },
          "metadata": {},
          "execution_count": 5
        }
      ]
    },
    {
      "cell_type": "code",
      "source": [
        "# Create dataloaders\n",
        "train_dl = DataLoader(train_ds, batch_size=2_000, shuffle=True)\n",
        "test_dl = DataLoader(test_ds, batch_size=2_000, shuffle=False)"
      ],
      "metadata": {
        "id": "Tj1G1IcwDjrR"
      },
      "execution_count": 6,
      "outputs": []
    },
    {
      "cell_type": "markdown",
      "source": [
        "Create training functions"
      ],
      "metadata": {
        "id": "FIaFPqdiG_6l"
      }
    },
    {
      "cell_type": "code",
      "source": [
        "def save_checkpoint(path, model_name, model, optimizer, epoch, loss):\n",
        "    # Save the model checkpoint\n",
        "    savepath = f'{path}/{model_name}_{epoch+1}_{loss:.3f}.pt'\n",
        "    checkpoint = {\n",
        "        'model': model.state_dict(),\n",
        "        'optimizer': optimizer.state_dict(),\n",
        "        'epoch': epoch + 1,\n",
        "        'loss': loss\n",
        "    }\n",
        "    torch.save(checkpoint, savepath)\n",
        "\n",
        "\n",
        "def eval_metrics(y_hat, y):\n",
        "    # Calculate accuracy and f1 score\n",
        "    y_hat = torch.log_softmax(y_hat, dim=1)\n",
        "    y_pred = torch.argmax(y_hat, dim=1).cpu().numpy()\n",
        "\n",
        "    return accuracy_score(y_pred, y), f1_score(y_pred, y, average='weighted')\n",
        "\n",
        "\n",
        "def one_pass(model, dl, loss_function, optimizer, update=True):\n",
        "    if update:\n",
        "        model.train()\n",
        "    else:\n",
        "        model.eval()\n",
        "\n",
        "    losses, accs, f1s = [], [], []\n",
        "    for X, y in tqdm(dl):\n",
        "        X, y = X.to(device), y.to(device)\n",
        "        y_hat = model(X)\n",
        "        loss = loss_function(y_hat, y)\n",
        "        losses.append(loss.item())\n",
        "\n",
        "        # Calculate accuracy and f1 score\n",
        "        acc, f1 = eval_metrics(y_hat, y.cpu())\n",
        "        accs.append(acc)\n",
        "        f1s.append(f1)\n",
        "\n",
        "        if update:\n",
        "            optimizer.zero_grad()\n",
        "            loss.backward()\n",
        "            optimizer.step()\n",
        "\n",
        "    return np.mean(losses), np.mean(accs), np.mean(f1s)\n",
        "\n",
        "\n",
        "def train_loop(model, epoches, train_dl, test_dl, optimizer, display=True, checkpoint_path=None, model_name='model'):\n",
        "    loss_fun = nn.CrossEntropyLoss()\n",
        "    # Early stop\n",
        "    best_model ={\n",
        "        'model': model,\n",
        "        'loss': 1e100,\n",
        "        'acc': None,\n",
        "        'f1': None\n",
        "    }\n",
        "\n",
        "    num_worse_loss = 0 # counter to get out of loop if model does not improve\n",
        "    for epoch in range(epoches):\n",
        "        train_loss, train_acc, train_f1 = one_pass(model, train_dl, loss_fun, optimizer, update=True)\n",
        "        test_loss, test_acc, test_f1 = one_pass(model, test_dl, loss_fun, optimizer, update=False)\n",
        "\n",
        "        if display:\n",
        "            print(f'***** Epoch {epoch+1} *****')\n",
        "            print(f'Train Loss: {train_loss:.3f}, Train Accuracy: {train_acc:.3f} Train F1: {train_f1:.3f}')\n",
        "            print(f'Test Loss: {test_loss:.3f}, Test Accuracy: {test_acc:.3f} Test F1: {test_f1:.3f}')\n",
        "\n",
        "        # Update best model\n",
        "        if test_loss < best_model['loss']:\n",
        "            best_model['model'] = model\n",
        "            best_model['loss'] = test_loss\n",
        "            best_model['acc'] = test_acc\n",
        "            best_model['f1'] = test_f1\n",
        "            num_worse_loss = 0\n",
        "        else:\n",
        "            num_worse_loss += 1\n",
        "            if num_worse_loss == 3:\n",
        "                break\n",
        "    \n",
        "        # Save checkpoint\n",
        "    if checkpoint_path:\n",
        "        save_checkpoint(checkpoint_path, model_name, best_model['model'], optimizer, epoch, best_model['loss'])\n",
        "\n",
        "    return best_model\n"
      ],
      "metadata": {
        "id": "FhXy099DHFVg"
      },
      "execution_count": 7,
      "outputs": []
    },
    {
      "cell_type": "markdown",
      "source": [
        "Create LSTM"
      ],
      "metadata": {
        "id": "RoXjBcD3PuBA"
      }
    },
    {
      "cell_type": "code",
      "source": [
        "class BaselineLSTM(nn.Module):\n",
        "    def __init__(self, embedding_size, hidden_size, vocab_size, lstm_p=0, linear_p=0, num_layers=1):\n",
        "        super(BaselineLSTM, self).__init__()\n",
        "        self.num_layers = num_layers\n",
        "        # Word Embeddings\n",
        "        self.embeddings = nn.Embedding(vocab_size, embedding_size, padding_idx=0)\n",
        "        self.embeddings.weight.data.uniform_(0, 0.05)\n",
        "\n",
        "        # LSTM\n",
        "        self.lstm = nn.LSTM(embedding_size, hidden_size, \n",
        "                            batch_first=True, dropout=lstm_p,\n",
        "                            num_layers=num_layers)\n",
        "\n",
        "        # Linear Layer2\n",
        "        hidden1_size = int(hidden_size * 2/3)\n",
        "        self.l1 = nn.Linear(hidden_size, hidden1_size)\n",
        "        self.l2 = nn.Linear(hidden1_size, 83) # 83 classes\n",
        "\n",
        "        # Dropout\n",
        "        self.dropout = nn.Dropout(linear_p)\n",
        "\n",
        "\n",
        "    def forward(self, x):\n",
        "        X_emb = self.embeddings(x)\n",
        "        out, hidden = self.lstm(X_emb)\n",
        "\n",
        "        if self.num_layers > 1:\n",
        "            X = hidden[0][0].squeeze()\n",
        "            # print(X.size())\n",
        "        else:\n",
        "            X = hidden[0].squeeze()\n",
        "        X = self.l1(X)\n",
        "        X = self.dropout(X)\n",
        "        return self.l2(X)\n"
      ],
      "metadata": {
        "id": "2Q_kNyaYPwui"
      },
      "execution_count": 8,
      "outputs": []
    },
    {
      "cell_type": "code",
      "source": [
        "vocab_size = len(train_ds.vocab)\n",
        "vocab_size"
      ],
      "metadata": {
        "colab": {
          "base_uri": "https://localhost:8080/"
        },
        "id": "obneKgLdVnrA",
        "outputId": "635b1f14-4235-4b29-989c-32e73c3c9067"
      },
      "execution_count": 9,
      "outputs": [
        {
          "output_type": "execute_result",
          "data": {
            "text/plain": [
              "39871"
            ]
          },
          "metadata": {},
          "execution_count": 9
        }
      ]
    },
    {
      "cell_type": "code",
      "source": [
        "cpath = '/content/drive/MyDrive/TweetContextClassifier/data/checkpoints'"
      ],
      "metadata": {
        "id": "bfKJElegqYJk"
      },
      "execution_count": 10,
      "outputs": []
    },
    {
      "cell_type": "code",
      "source": [
        "baseline_model = BaselineLSTM(embedding_size=100, hidden_size=50, vocab_size=vocab_size).to(device)\n",
        "optimizer = optim.Adam(baseline_model.parameters(), lr=0.025)"
      ],
      "metadata": {
        "id": "MryREBe1VUAp"
      },
      "execution_count": 26,
      "outputs": []
    },
    {
      "cell_type": "code",
      "source": [
        "best_baseline_model = train_loop(\n",
        "    baseline_model,\n",
        "    5,\n",
        "    train_dl,\n",
        "    test_dl,\n",
        "    optimizer,\n",
        "    checkpoint_path=cpath,\n",
        "    model_name='baselineLSTM'\n",
        ")"
      ],
      "metadata": {
        "colab": {
          "base_uri": "https://localhost:8080/"
        },
        "id": "gDVWqqnzWsCl",
        "outputId": "9790036f-5ff4-4902-d149-1bc17cff1d2f"
      },
      "execution_count": 27,
      "outputs": [
        {
          "output_type": "stream",
          "name": "stderr",
          "text": [
            "100%|██████████| 67/67 [03:21<00:00,  3.00s/it]\n",
            "100%|██████████| 34/34 [01:30<00:00,  2.66s/it]\n"
          ]
        },
        {
          "output_type": "stream",
          "name": "stdout",
          "text": [
            "***** Epoch 1 *****\n",
            "Train Loss: 2.437, Train Accuracy: 0.379 Train F1: 0.379\n",
            "Test Loss: 1.453, Test Accuracy: 0.650 Test F1: 0.650\n"
          ]
        },
        {
          "output_type": "stream",
          "name": "stderr",
          "text": [
            "100%|██████████| 67/67 [03:20<00:00,  2.99s/it]\n",
            "100%|██████████| 34/34 [01:30<00:00,  2.67s/it]\n"
          ]
        },
        {
          "output_type": "stream",
          "name": "stdout",
          "text": [
            "***** Epoch 2 *****\n",
            "Train Loss: 1.212, Train Accuracy: 0.699 Train F1: 0.699\n",
            "Test Loss: 1.154, Test Accuracy: 0.711 Test F1: 0.711\n"
          ]
        },
        {
          "output_type": "stream",
          "name": "stderr",
          "text": [
            "100%|██████████| 67/67 [03:21<00:00,  3.01s/it]\n",
            "100%|██████████| 34/34 [01:30<00:00,  2.66s/it]\n"
          ]
        },
        {
          "output_type": "stream",
          "name": "stdout",
          "text": [
            "***** Epoch 3 *****\n",
            "Train Loss: 0.988, Train Accuracy: 0.747 Train F1: 0.747\n",
            "Test Loss: 1.097, Test Accuracy: 0.727 Test F1: 0.727\n"
          ]
        },
        {
          "output_type": "stream",
          "name": "stderr",
          "text": [
            "100%|██████████| 67/67 [03:21<00:00,  3.01s/it]\n",
            "100%|██████████| 34/34 [01:30<00:00,  2.65s/it]\n"
          ]
        },
        {
          "output_type": "stream",
          "name": "stdout",
          "text": [
            "***** Epoch 4 *****\n",
            "Train Loss: 0.854, Train Accuracy: 0.777 Train F1: 0.777\n",
            "Test Loss: 1.101, Test Accuracy: 0.731 Test F1: 0.731\n"
          ]
        },
        {
          "output_type": "stream",
          "name": "stderr",
          "text": [
            "100%|██████████| 67/67 [03:21<00:00,  3.01s/it]\n",
            "100%|██████████| 34/34 [01:29<00:00,  2.64s/it]"
          ]
        },
        {
          "output_type": "stream",
          "name": "stdout",
          "text": [
            "***** Epoch 5 *****\n",
            "Train Loss: 0.749, Train Accuracy: 0.802 Train F1: 0.802\n",
            "Test Loss: 1.129, Test Accuracy: 0.730 Test F1: 0.730\n"
          ]
        },
        {
          "output_type": "stream",
          "name": "stderr",
          "text": [
            "\n"
          ]
        }
      ]
    },
    {
      "cell_type": "markdown",
      "source": [
        "Train baseline model but with dropout = 0.3"
      ],
      "metadata": {
        "id": "aqf9shHiIwZe"
      }
    },
    {
      "cell_type": "code",
      "source": [
        "baseline_model_drop = BaselineLSTM(embedding_size=100, hidden_size=50, vocab_size=vocab_size, lstm_p=0.3, linear_p=0.3).to(device)\n",
        "optimizer = optim.Adam(baseline_model_drop.parameters(), lr=0.01)\n",
        "best_baseline_model = train_loop(\n",
        "    baseline_model_drop,\n",
        "    10,\n",
        "    train_dl,\n",
        "    test_dl,\n",
        "    optimizer,\n",
        "    checkpoint_path=cpath,\n",
        "    model_name='baselineLSTM_p0.3'\n",
        ")"
      ],
      "metadata": {
        "colab": {
          "base_uri": "https://localhost:8080/"
        },
        "id": "x3sD3e8HHocO",
        "outputId": "74b629d0-d8d8-4dcb-a5fc-9d916b749a35"
      },
      "execution_count": 13,
      "outputs": [
        {
          "output_type": "stream",
          "name": "stderr",
          "text": [
            "/usr/local/lib/python3.7/dist-packages/torch/nn/modules/rnn.py:65: UserWarning: dropout option adds dropout after all but last recurrent layer, so non-zero dropout expects num_layers greater than 1, but got dropout=0.3 and num_layers=1\n",
            "  \"num_layers={}\".format(dropout, num_layers))\n",
            "100%|██████████| 67/67 [03:14<00:00,  2.91s/it]\n",
            "100%|██████████| 34/34 [01:27<00:00,  2.56s/it]\n"
          ]
        },
        {
          "output_type": "stream",
          "name": "stdout",
          "text": [
            "***** Epoch 1 *****\n",
            "Train Loss: 3.061, Train Accuracy: 0.194 Train F1: 0.278\n",
            "Test Loss: 2.541, Test Accuracy: 0.328 Test F1: 0.402\n"
          ]
        },
        {
          "output_type": "stream",
          "name": "stderr",
          "text": [
            "100%|██████████| 67/67 [03:14<00:00,  2.90s/it]\n",
            "100%|██████████| 34/34 [01:26<00:00,  2.54s/it]\n"
          ]
        },
        {
          "output_type": "stream",
          "name": "stdout",
          "text": [
            "***** Epoch 2 *****\n",
            "Train Loss: 2.034, Train Accuracy: 0.478 Train F1: 0.531\n",
            "Test Loss: 1.530, Test Accuracy: 0.629 Test F1: 0.661\n"
          ]
        },
        {
          "output_type": "stream",
          "name": "stderr",
          "text": [
            "100%|██████████| 67/67 [03:14<00:00,  2.90s/it]\n",
            "100%|██████████| 34/34 [01:26<00:00,  2.54s/it]\n"
          ]
        },
        {
          "output_type": "stream",
          "name": "stdout",
          "text": [
            "***** Epoch 3 *****\n",
            "Train Loss: 1.392, Train Accuracy: 0.666 Train F1: 0.691\n",
            "Test Loss: 1.280, Test Accuracy: 0.691 Test F1: 0.710\n"
          ]
        },
        {
          "output_type": "stream",
          "name": "stderr",
          "text": [
            "100%|██████████| 67/67 [03:13<00:00,  2.90s/it]\n",
            "100%|██████████| 34/34 [01:25<00:00,  2.51s/it]\n"
          ]
        },
        {
          "output_type": "stream",
          "name": "stdout",
          "text": [
            "***** Epoch 4 *****\n",
            "Train Loss: 1.180, Train Accuracy: 0.714 Train F1: 0.729\n",
            "Test Loss: 1.198, Test Accuracy: 0.712 Test F1: 0.724\n"
          ]
        },
        {
          "output_type": "stream",
          "name": "stderr",
          "text": [
            "100%|██████████| 67/67 [03:13<00:00,  2.90s/it]\n",
            "100%|██████████| 34/34 [01:26<00:00,  2.53s/it]\n"
          ]
        },
        {
          "output_type": "stream",
          "name": "stdout",
          "text": [
            "***** Epoch 5 *****\n",
            "Train Loss: 1.052, Train Accuracy: 0.742 Train F1: 0.753\n",
            "Test Loss: 1.171, Test Accuracy: 0.721 Test F1: 0.730\n"
          ]
        },
        {
          "output_type": "stream",
          "name": "stderr",
          "text": [
            "100%|██████████| 67/67 [03:13<00:00,  2.89s/it]\n",
            "100%|██████████| 34/34 [01:30<00:00,  2.65s/it]\n"
          ]
        },
        {
          "output_type": "stream",
          "name": "stdout",
          "text": [
            "***** Epoch 6 *****\n",
            "Train Loss: 0.948, Train Accuracy: 0.765 Train F1: 0.772\n",
            "Test Loss: 1.170, Test Accuracy: 0.725 Test F1: 0.732\n"
          ]
        },
        {
          "output_type": "stream",
          "name": "stderr",
          "text": [
            "100%|██████████| 67/67 [03:14<00:00,  2.90s/it]\n",
            "100%|██████████| 34/34 [01:25<00:00,  2.51s/it]\n"
          ]
        },
        {
          "output_type": "stream",
          "name": "stdout",
          "text": [
            "***** Epoch 7 *****\n",
            "Train Loss: 0.863, Train Accuracy: 0.783 Train F1: 0.790\n",
            "Test Loss: 1.194, Test Accuracy: 0.727 Test F1: 0.735\n"
          ]
        },
        {
          "output_type": "stream",
          "name": "stderr",
          "text": [
            "100%|██████████| 67/67 [03:13<00:00,  2.89s/it]\n",
            "100%|██████████| 34/34 [01:25<00:00,  2.53s/it]"
          ]
        },
        {
          "output_type": "stream",
          "name": "stdout",
          "text": [
            "***** Epoch 8 *****\n",
            "Train Loss: 0.787, Train Accuracy: 0.800 Train F1: 0.805\n",
            "Test Loss: 1.224, Test Accuracy: 0.728 Test F1: 0.734\n"
          ]
        },
        {
          "output_type": "stream",
          "name": "stderr",
          "text": [
            "\n"
          ]
        }
      ]
    },
    {
      "cell_type": "markdown",
      "source": [
        "Two layer LSTM"
      ],
      "metadata": {
        "id": "v0_N90LoGdiY"
      }
    },
    {
      "cell_type": "code",
      "source": [
        "baseline_model_twol = BaselineLSTM(embedding_size=100, hidden_size=50, \n",
        "                                   vocab_size=vocab_size,\n",
        "                                   lstm_p=0.3,\n",
        "                                   linear_p=0.3,\n",
        "                                   num_layers=2).to(device)\n",
        "optimizer = optim.Adam(baseline_model_twol.parameters(), lr=0.01)\n",
        "best_baseline_model = train_loop(\n",
        "    baseline_model_twol,\n",
        "    10,\n",
        "    train_dl,\n",
        "    test_dl,\n",
        "    optimizer,\n",
        "    checkpoint_path=cpath,\n",
        "    model_name='baselineLSTM_2layer'\n",
        ")"
      ],
      "metadata": {
        "colab": {
          "base_uri": "https://localhost:8080/"
        },
        "id": "OADxfi8uXCjc",
        "outputId": "727b95bd-1d8f-4cb9-df54-73f3f562ee47"
      },
      "execution_count": 13,
      "outputs": [
        {
          "output_type": "stream",
          "name": "stderr",
          "text": [
            "100%|██████████| 75/75 [03:35<00:00,  2.88s/it]\n",
            "100%|██████████| 38/38 [01:27<00:00,  2.30s/it]\n"
          ]
        },
        {
          "output_type": "stream",
          "name": "stdout",
          "text": [
            "***** Epoch 1 *****\n",
            "Train Loss: 2.930, Train Accuracy: 0.238 Train F1: 0.321\n",
            "Test Loss: 2.244, Test Accuracy: 0.424 Test F1: 0.500\n"
          ]
        },
        {
          "output_type": "stream",
          "name": "stderr",
          "text": [
            "100%|██████████| 75/75 [03:33<00:00,  2.85s/it]\n",
            "100%|██████████| 38/38 [01:27<00:00,  2.29s/it]\n"
          ]
        },
        {
          "output_type": "stream",
          "name": "stdout",
          "text": [
            "***** Epoch 2 *****\n",
            "Train Loss: 1.815, Train Accuracy: 0.543 Train F1: 0.593\n",
            "Test Loss: 1.466, Test Accuracy: 0.643 Test F1: 0.673\n"
          ]
        },
        {
          "output_type": "stream",
          "name": "stderr",
          "text": [
            "100%|██████████| 75/75 [03:34<00:00,  2.86s/it]\n",
            "100%|██████████| 38/38 [01:27<00:00,  2.29s/it]\n"
          ]
        },
        {
          "output_type": "stream",
          "name": "stdout",
          "text": [
            "***** Epoch 3 *****\n",
            "Train Loss: 1.371, Train Accuracy: 0.670 Train F1: 0.692\n",
            "Test Loss: 1.274, Test Accuracy: 0.692 Test F1: 0.708\n"
          ]
        },
        {
          "output_type": "stream",
          "name": "stderr",
          "text": [
            "100%|██████████| 75/75 [03:34<00:00,  2.86s/it]\n",
            "100%|██████████| 38/38 [01:25<00:00,  2.26s/it]\n"
          ]
        },
        {
          "output_type": "stream",
          "name": "stdout",
          "text": [
            "***** Epoch 4 *****\n",
            "Train Loss: 1.171, Train Accuracy: 0.717 Train F1: 0.731\n",
            "Test Loss: 1.200, Test Accuracy: 0.710 Test F1: 0.723\n"
          ]
        },
        {
          "output_type": "stream",
          "name": "stderr",
          "text": [
            "100%|██████████| 75/75 [03:33<00:00,  2.85s/it]\n",
            "100%|██████████| 38/38 [01:26<00:00,  2.27s/it]\n"
          ]
        },
        {
          "output_type": "stream",
          "name": "stdout",
          "text": [
            "***** Epoch 5 *****\n",
            "Train Loss: 1.055, Train Accuracy: 0.743 Train F1: 0.753\n",
            "Test Loss: 1.170, Test Accuracy: 0.718 Test F1: 0.728\n"
          ]
        },
        {
          "output_type": "stream",
          "name": "stderr",
          "text": [
            "100%|██████████| 75/75 [03:33<00:00,  2.84s/it]\n",
            "100%|██████████| 38/38 [01:26<00:00,  2.27s/it]\n"
          ]
        },
        {
          "output_type": "stream",
          "name": "stdout",
          "text": [
            "***** Epoch 6 *****\n",
            "Train Loss: 0.963, Train Accuracy: 0.762 Train F1: 0.770\n",
            "Test Loss: 1.159, Test Accuracy: 0.725 Test F1: 0.733\n"
          ]
        },
        {
          "output_type": "stream",
          "name": "stderr",
          "text": [
            "100%|██████████| 75/75 [03:31<00:00,  2.82s/it]\n",
            "100%|██████████| 38/38 [01:25<00:00,  2.25s/it]\n"
          ]
        },
        {
          "output_type": "stream",
          "name": "stdout",
          "text": [
            "***** Epoch 7 *****\n",
            "Train Loss: 0.884, Train Accuracy: 0.779 Train F1: 0.786\n",
            "Test Loss: 1.176, Test Accuracy: 0.724 Test F1: 0.732\n"
          ]
        },
        {
          "output_type": "stream",
          "name": "stderr",
          "text": [
            "100%|██████████| 75/75 [03:32<00:00,  2.83s/it]\n",
            "100%|██████████| 38/38 [01:25<00:00,  2.26s/it]"
          ]
        },
        {
          "output_type": "stream",
          "name": "stdout",
          "text": [
            "***** Epoch 8 *****\n",
            "Train Loss: 0.813, Train Accuracy: 0.795 Train F1: 0.801\n",
            "Test Loss: 1.202, Test Accuracy: 0.726 Test F1: 0.733\n"
          ]
        },
        {
          "output_type": "stream",
          "name": "stderr",
          "text": [
            "\n"
          ]
        }
      ]
    },
    {
      "cell_type": "markdown",
      "source": [
        "Two Layer with larger embedding and hidden size"
      ],
      "metadata": {
        "id": "PqRaabGTGjSa"
      }
    },
    {
      "cell_type": "code",
      "source": [
        "model_2 = BaselineLSTM(embedding_size=200, hidden_size=100, \n",
        "                                   vocab_size=vocab_size,\n",
        "                                   lstm_p=0,\n",
        "                                   linear_p=0,\n",
        "                                   num_layers=2).to(device)\n",
        "optimizer = optim.Adam(model_2.parameters(), lr=0.01)\n",
        "best_baseline_model = train_loop(\n",
        "    model_2,\n",
        "    10,\n",
        "    train_dl,\n",
        "    test_dl,\n",
        "    optimizer,\n",
        "    checkpoint_path=cpath,\n",
        "    model_name='baselineLSTM_embed200'\n",
        ")"
      ],
      "metadata": {
        "colab": {
          "base_uri": "https://localhost:8080/"
        },
        "id": "F6v1NplsPD8L",
        "outputId": "5b9e8afc-936f-42b9-dfbf-ce8de16274ef"
      },
      "execution_count": 17,
      "outputs": [
        {
          "output_type": "stream",
          "name": "stderr",
          "text": [
            "100%|██████████| 334/334 [03:52<00:00,  1.43it/s]\n",
            "100%|██████████| 167/167 [01:34<00:00,  1.77it/s]\n"
          ]
        },
        {
          "output_type": "stream",
          "name": "stdout",
          "text": [
            "***** Epoch 1 *****\n",
            "Train Loss: 1.698, Train Accuracy: 0.565 Train F1: 0.601\n",
            "Test Loss: 1.148, Test Accuracy: 0.710 Test F1: 0.721\n"
          ]
        },
        {
          "output_type": "stream",
          "name": "stderr",
          "text": [
            "100%|██████████| 334/334 [03:51<00:00,  1.44it/s]\n",
            "100%|██████████| 167/167 [01:34<00:00,  1.76it/s]\n"
          ]
        },
        {
          "output_type": "stream",
          "name": "stdout",
          "text": [
            "***** Epoch 2 *****\n",
            "Train Loss: 1.007, Train Accuracy: 0.741 Train F1: 0.749\n",
            "Test Loss: 1.052, Test Accuracy: 0.734 Test F1: 0.743\n"
          ]
        },
        {
          "output_type": "stream",
          "name": "stderr",
          "text": [
            "100%|██████████| 334/334 [03:52<00:00,  1.43it/s]\n",
            "100%|██████████| 167/167 [01:34<00:00,  1.77it/s]\n"
          ]
        },
        {
          "output_type": "stream",
          "name": "stdout",
          "text": [
            "***** Epoch 3 *****\n",
            "Train Loss: 0.846, Train Accuracy: 0.777 Train F1: 0.783\n",
            "Test Loss: 1.056, Test Accuracy: 0.738 Test F1: 0.744\n"
          ]
        },
        {
          "output_type": "stream",
          "name": "stderr",
          "text": [
            "100%|██████████| 334/334 [03:52<00:00,  1.44it/s]\n",
            "100%|██████████| 167/167 [01:34<00:00,  1.77it/s]\n"
          ]
        },
        {
          "output_type": "stream",
          "name": "stdout",
          "text": [
            "***** Epoch 4 *****\n",
            "Train Loss: 0.722, Train Accuracy: 0.806 Train F1: 0.810\n",
            "Test Loss: 1.100, Test Accuracy: 0.736 Test F1: 0.743\n"
          ]
        },
        {
          "output_type": "stream",
          "name": "stderr",
          "text": [
            "100%|██████████| 334/334 [03:52<00:00,  1.44it/s]\n",
            "100%|██████████| 167/167 [01:33<00:00,  1.79it/s]\n"
          ]
        },
        {
          "output_type": "stream",
          "name": "stdout",
          "text": [
            "***** Epoch 5 *****\n",
            "Train Loss: 0.621, Train Accuracy: 0.830 Train F1: 0.834\n",
            "Test Loss: 1.158, Test Accuracy: 0.734 Test F1: 0.739\n"
          ]
        }
      ]
    },
    {
      "cell_type": "markdown",
      "source": [
        "Add more linear layers"
      ],
      "metadata": {
        "id": "J_vfh3sRGn6f"
      }
    },
    {
      "cell_type": "code",
      "source": [
        "class BaselineLSTM(nn.Module):\n",
        "    def __init__(self, embedding_size, hidden_size, vocab_size, lstm_p=0, linear_p=0, num_layers=1):\n",
        "        super(BaselineLSTM, self).__init__()\n",
        "        self.num_layers = num_layers\n",
        "        # Word Embeddings\n",
        "        self.embeddings = nn.Embedding(vocab_size, embedding_size, padding_idx=0)\n",
        "        self.embeddings.weight.data.uniform_(0, 0.05)\n",
        "\n",
        "        # LSTM\n",
        "        self.lstm = nn.LSTM(embedding_size, hidden_size, \n",
        "                            batch_first=True, dropout=lstm_p,\n",
        "                            num_layers=num_layers)\n",
        "\n",
        "        # Linear Layer2\n",
        "        hidden1_size = int(hidden_size * 2/3)\n",
        "        hidden2_size = int(hidden1_size * 2/3)\n",
        "        hidden3_size = int(hidden2_size * 2/3)\n",
        "        self.l1 = nn.Linear(hidden_size, hidden1_size)\n",
        "        self.l2 = nn.Linear(hidden1_size, hidden2_size)\n",
        "        self.l3 = nn.Linear(hidden2_size, hidden3_size) \n",
        "        self.l4 = nn.Linear(hidden3_size, 83) # 83 classes\n",
        "\n",
        "        # Dropout\n",
        "        self.dropout = nn.Dropout(linear_p)\n",
        "\n",
        "        # ReLu\n",
        "        self.relu = nn.ReLU()\n",
        "\n",
        "\n",
        "    def forward(self, x):\n",
        "        X_emb = self.embeddings(x)\n",
        "        out, hidden = self.lstm(X_emb)\n",
        "\n",
        "        if self.num_layers > 1:\n",
        "            X = hidden[0][0].squeeze()\n",
        "            # print(X.size())\n",
        "        else:\n",
        "            X = hidden[0].squeeze()\n",
        "        X = self.l1(X)\n",
        "        X = self.relu(self.dropout(X))\n",
        "        X = self.l2(X)\n",
        "        X = self.relu(self.dropout(X))\n",
        "        X = self.l3(X)\n",
        "        X = self.relu(self.dropout(X))\n",
        "        return self.l4(X)\n"
      ],
      "metadata": {
        "id": "Pfmp4uEprGQl"
      },
      "execution_count": 12,
      "outputs": []
    },
    {
      "cell_type": "code",
      "source": [
        "model_3 = BaselineLSTM(embedding_size=200, hidden_size=100, \n",
        "                                   vocab_size=vocab_size,\n",
        "                                   lstm_p=0.3,\n",
        "                                   linear_p=0.3,\n",
        "                                   num_layers=1).to(device)\n",
        "optimizer = optim.Adam(model_3.parameters(), lr=0.02)\n",
        "best_baseline_model = train_loop(\n",
        "    model_3,\n",
        "    10,\n",
        "    train_dl,\n",
        "    test_dl,\n",
        "    optimizer,\n",
        "    checkpoint_path=cpath,\n",
        "    model_name='baselineLSTM_4layer'\n",
        ")"
      ],
      "metadata": {
        "colab": {
          "base_uri": "https://localhost:8080/"
        },
        "id": "AOWih9L5HoME",
        "outputId": "67b8dd84-c03f-4074-c4b4-b8f34713dcba"
      },
      "execution_count": 15,
      "outputs": [
        {
          "output_type": "stream",
          "name": "stderr",
          "text": [
            "/usr/local/lib/python3.7/dist-packages/torch/nn/modules/rnn.py:65: UserWarning: dropout option adds dropout after all but last recurrent layer, so non-zero dropout expects num_layers greater than 1, but got dropout=0.3 and num_layers=1\n",
            "  \"num_layers={}\".format(dropout, num_layers))\n",
            "100%|██████████| 334/334 [03:27<00:00,  1.61it/s]\n",
            "100%|██████████| 167/167 [01:28<00:00,  1.89it/s]\n"
          ]
        },
        {
          "output_type": "stream",
          "name": "stdout",
          "text": [
            "***** Epoch 1 *****\n",
            "Train Loss: 2.780, Train Accuracy: 0.248 Train F1: 0.343\n",
            "Test Loss: 2.370, Test Accuracy: 0.350 Test F1: 0.452\n"
          ]
        },
        {
          "output_type": "stream",
          "name": "stderr",
          "text": [
            "100%|██████████| 334/334 [03:27<00:00,  1.61it/s]\n",
            "100%|██████████| 167/167 [01:28<00:00,  1.89it/s]\n"
          ]
        },
        {
          "output_type": "stream",
          "name": "stdout",
          "text": [
            "***** Epoch 2 *****\n",
            "Train Loss: 2.296, Train Accuracy: 0.378 Train F1: 0.461\n",
            "Test Loss: 2.077, Test Accuracy: 0.433 Test F1: 0.515\n"
          ]
        },
        {
          "output_type": "stream",
          "name": "stderr",
          "text": [
            "100%|██████████| 334/334 [03:27<00:00,  1.61it/s]\n",
            "100%|██████████| 167/167 [01:28<00:00,  1.88it/s]\n"
          ]
        },
        {
          "output_type": "stream",
          "name": "stdout",
          "text": [
            "***** Epoch 3 *****\n",
            "Train Loss: 2.137, Train Accuracy: 0.435 Train F1: 0.508\n",
            "Test Loss: 1.993, Test Accuracy: 0.468 Test F1: 0.541\n"
          ]
        },
        {
          "output_type": "stream",
          "name": "stderr",
          "text": [
            "100%|██████████| 334/334 [03:27<00:00,  1.61it/s]\n",
            "100%|██████████| 167/167 [01:28<00:00,  1.89it/s]\n"
          ]
        },
        {
          "output_type": "stream",
          "name": "stdout",
          "text": [
            "***** Epoch 4 *****\n",
            "Train Loss: 2.087, Train Accuracy: 0.452 Train F1: 0.522\n",
            "Test Loss: 1.938, Test Accuracy: 0.488 Test F1: 0.557\n"
          ]
        },
        {
          "output_type": "stream",
          "name": "stderr",
          "text": [
            "100%|██████████| 334/334 [03:26<00:00,  1.61it/s]\n",
            "100%|██████████| 167/167 [01:28<00:00,  1.88it/s]\n"
          ]
        },
        {
          "output_type": "stream",
          "name": "stdout",
          "text": [
            "***** Epoch 5 *****\n",
            "Train Loss: 2.064, Train Accuracy: 0.464 Train F1: 0.530\n",
            "Test Loss: 1.926, Test Accuracy: 0.493 Test F1: 0.564\n"
          ]
        },
        {
          "output_type": "stream",
          "name": "stderr",
          "text": [
            "100%|██████████| 334/334 [03:27<00:00,  1.61it/s]\n",
            "100%|██████████| 167/167 [01:28<00:00,  1.89it/s]\n"
          ]
        },
        {
          "output_type": "stream",
          "name": "stdout",
          "text": [
            "***** Epoch 6 *****\n",
            "Train Loss: 2.037, Train Accuracy: 0.473 Train F1: 0.539\n",
            "Test Loss: 1.911, Test Accuracy: 0.503 Test F1: 0.564\n"
          ]
        },
        {
          "output_type": "stream",
          "name": "stderr",
          "text": [
            "100%|██████████| 334/334 [03:27<00:00,  1.61it/s]\n",
            "100%|██████████| 167/167 [01:28<00:00,  1.89it/s]\n"
          ]
        },
        {
          "output_type": "stream",
          "name": "stdout",
          "text": [
            "***** Epoch 7 *****\n",
            "Train Loss: 2.015, Train Accuracy: 0.478 Train F1: 0.542\n",
            "Test Loss: 1.874, Test Accuracy: 0.511 Test F1: 0.570\n"
          ]
        },
        {
          "output_type": "stream",
          "name": "stderr",
          "text": [
            "100%|██████████| 334/334 [03:27<00:00,  1.61it/s]\n",
            "100%|██████████| 167/167 [01:28<00:00,  1.89it/s]\n"
          ]
        },
        {
          "output_type": "stream",
          "name": "stdout",
          "text": [
            "***** Epoch 8 *****\n",
            "Train Loss: 2.003, Train Accuracy: 0.483 Train F1: 0.544\n",
            "Test Loss: 1.855, Test Accuracy: 0.520 Test F1: 0.583\n"
          ]
        },
        {
          "output_type": "stream",
          "name": "stderr",
          "text": [
            "100%|██████████| 334/334 [03:26<00:00,  1.62it/s]\n",
            "100%|██████████| 167/167 [01:28<00:00,  1.89it/s]\n"
          ]
        },
        {
          "output_type": "stream",
          "name": "stdout",
          "text": [
            "***** Epoch 9 *****\n",
            "Train Loss: 1.998, Train Accuracy: 0.486 Train F1: 0.547\n",
            "Test Loss: 1.872, Test Accuracy: 0.513 Test F1: 0.574\n"
          ]
        },
        {
          "output_type": "stream",
          "name": "stderr",
          "text": [
            "100%|██████████| 334/334 [03:26<00:00,  1.61it/s]\n",
            "100%|██████████| 167/167 [01:27<00:00,  1.91it/s]\n"
          ]
        },
        {
          "output_type": "stream",
          "name": "stdout",
          "text": [
            "***** Epoch 10 *****\n",
            "Train Loss: 2.009, Train Accuracy: 0.483 Train F1: 0.545\n",
            "Test Loss: 1.879, Test Accuracy: 0.514 Test F1: 0.576\n"
          ]
        }
      ]
    },
    {
      "cell_type": "code",
      "source": [
        "model_4 = BaselineLSTM(embedding_size=200, hidden_size=100, \n",
        "                                   vocab_size=vocab_size,\n",
        "                                   lstm_p=0.3,\n",
        "                                   linear_p=0.3,\n",
        "                                   num_layers=2).to(device)\n",
        "optimizer = optim.Adam(model_4.parameters(), lr=0.02)\n",
        "best_baseline_model = train_loop(\n",
        "    model_4,\n",
        "    10,\n",
        "    train_dl,\n",
        "    test_dl,\n",
        "    optimizer,\n",
        "    checkpoint_path=cpath,\n",
        "    model_name='baselineLSTM_4layer2'\n",
        ")"
      ],
      "metadata": {
        "colab": {
          "base_uri": "https://localhost:8080/"
        },
        "id": "yBvKplrnHvBT",
        "outputId": "7f982afa-e215-4eee-b1fd-d803fc9f89f3"
      },
      "execution_count": 16,
      "outputs": [
        {
          "output_type": "stream",
          "name": "stderr",
          "text": [
            "100%|██████████| 334/334 [03:57<00:00,  1.41it/s]\n",
            "100%|██████████| 167/167 [01:31<00:00,  1.82it/s]\n"
          ]
        },
        {
          "output_type": "stream",
          "name": "stdout",
          "text": [
            "***** Epoch 1 *****\n",
            "Train Loss: 2.576, Train Accuracy: 0.304 Train F1: 0.391\n",
            "Test Loss: 2.144, Test Accuracy: 0.403 Test F1: 0.478\n"
          ]
        },
        {
          "output_type": "stream",
          "name": "stderr",
          "text": [
            "100%|██████████| 334/334 [03:57<00:00,  1.41it/s]\n",
            "100%|██████████| 167/167 [01:31<00:00,  1.82it/s]\n"
          ]
        },
        {
          "output_type": "stream",
          "name": "stdout",
          "text": [
            "***** Epoch 2 *****\n",
            "Train Loss: 2.120, Train Accuracy: 0.433 Train F1: 0.486\n",
            "Test Loss: 1.953, Test Accuracy: 0.479 Test F1: 0.528\n"
          ]
        },
        {
          "output_type": "stream",
          "name": "stderr",
          "text": [
            "100%|██████████| 334/334 [03:56<00:00,  1.41it/s]\n",
            "100%|██████████| 167/167 [01:31<00:00,  1.82it/s]\n"
          ]
        },
        {
          "output_type": "stream",
          "name": "stdout",
          "text": [
            "***** Epoch 3 *****\n",
            "Train Loss: 2.011, Train Accuracy: 0.475 Train F1: 0.517\n",
            "Test Loss: 1.897, Test Accuracy: 0.513 Test F1: 0.552\n"
          ]
        },
        {
          "output_type": "stream",
          "name": "stderr",
          "text": [
            "100%|██████████| 334/334 [03:56<00:00,  1.41it/s]\n",
            "100%|██████████| 167/167 [01:31<00:00,  1.83it/s]\n"
          ]
        },
        {
          "output_type": "stream",
          "name": "stdout",
          "text": [
            "***** Epoch 4 *****\n",
            "Train Loss: 1.972, Train Accuracy: 0.488 Train F1: 0.530\n",
            "Test Loss: 1.856, Test Accuracy: 0.527 Test F1: 0.563\n"
          ]
        },
        {
          "output_type": "stream",
          "name": "stderr",
          "text": [
            "100%|██████████| 334/334 [03:56<00:00,  1.41it/s]\n",
            "100%|██████████| 167/167 [01:31<00:00,  1.82it/s]\n"
          ]
        },
        {
          "output_type": "stream",
          "name": "stdout",
          "text": [
            "***** Epoch 5 *****\n",
            "Train Loss: 1.954, Train Accuracy: 0.498 Train F1: 0.543\n",
            "Test Loss: 1.842, Test Accuracy: 0.535 Test F1: 0.586\n"
          ]
        },
        {
          "output_type": "stream",
          "name": "stderr",
          "text": [
            "100%|██████████| 334/334 [03:56<00:00,  1.41it/s]\n",
            "100%|██████████| 167/167 [01:31<00:00,  1.83it/s]\n"
          ]
        },
        {
          "output_type": "stream",
          "name": "stdout",
          "text": [
            "***** Epoch 6 *****\n",
            "Train Loss: 1.933, Train Accuracy: 0.506 Train F1: 0.557\n",
            "Test Loss: 1.803, Test Accuracy: 0.547 Test F1: 0.596\n"
          ]
        },
        {
          "output_type": "stream",
          "name": "stderr",
          "text": [
            "100%|██████████| 334/334 [03:56<00:00,  1.41it/s]\n",
            "100%|██████████| 167/167 [01:30<00:00,  1.84it/s]\n"
          ]
        },
        {
          "output_type": "stream",
          "name": "stdout",
          "text": [
            "***** Epoch 7 *****\n",
            "Train Loss: 1.922, Train Accuracy: 0.511 Train F1: 0.563\n",
            "Test Loss: 1.776, Test Accuracy: 0.548 Test F1: 0.607\n"
          ]
        },
        {
          "output_type": "stream",
          "name": "stderr",
          "text": [
            "100%|██████████| 334/334 [03:56<00:00,  1.41it/s]\n",
            "100%|██████████| 167/167 [01:31<00:00,  1.82it/s]\n"
          ]
        },
        {
          "output_type": "stream",
          "name": "stdout",
          "text": [
            "***** Epoch 8 *****\n",
            "Train Loss: 1.910, Train Accuracy: 0.514 Train F1: 0.567\n",
            "Test Loss: 1.776, Test Accuracy: 0.548 Test F1: 0.605\n"
          ]
        },
        {
          "output_type": "stream",
          "name": "stderr",
          "text": [
            "100%|██████████| 334/334 [03:56<00:00,  1.41it/s]\n",
            "100%|██████████| 167/167 [01:31<00:00,  1.83it/s]\n"
          ]
        },
        {
          "output_type": "stream",
          "name": "stdout",
          "text": [
            "***** Epoch 9 *****\n",
            "Train Loss: 1.901, Train Accuracy: 0.519 Train F1: 0.571\n",
            "Test Loss: 1.763, Test Accuracy: 0.550 Test F1: 0.607\n"
          ]
        },
        {
          "output_type": "stream",
          "name": "stderr",
          "text": [
            "100%|██████████| 334/334 [03:56<00:00,  1.41it/s]\n",
            "100%|██████████| 167/167 [01:31<00:00,  1.83it/s]\n"
          ]
        },
        {
          "output_type": "stream",
          "name": "stdout",
          "text": [
            "***** Epoch 10 *****\n",
            "Train Loss: 1.900, Train Accuracy: 0.519 Train F1: 0.571\n",
            "Test Loss: 1.781, Test Accuracy: 0.549 Test F1: 0.599\n"
          ]
        }
      ]
    },
    {
      "cell_type": "code",
      "source": [
        ""
      ],
      "metadata": {
        "id": "TSiKAtb4poGr"
      },
      "execution_count": null,
      "outputs": []
    }
  ]
}