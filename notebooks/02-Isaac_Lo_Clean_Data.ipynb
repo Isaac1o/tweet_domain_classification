{
 "cells": [
  {
   "cell_type": "code",
   "execution_count": 1,
   "metadata": {
    "collapsed": true
   },
   "outputs": [],
   "source": [
    "import pandas as pd\n",
    "import numpy as np\n",
    "import matplotlib.pyplot as plt\n",
    "from tqdm.notebook import tqdm"
   ]
  },
  {
   "cell_type": "code",
   "execution_count": 2,
   "outputs": [
    {
     "name": "stderr",
     "output_type": "stream",
     "text": [
      "/Users/Isaacbolo/opt/anaconda3/envs/deeplearning/lib/python3.7/site-packages/IPython/core/interactiveshell.py:3552: DtypeWarning: Columns (0,1,2,3,4,5,6,7,8,9,10,11,12,13,14,15,16,17,18,19,20,21,22,23,24) have mixed types.Specify dtype option on import or set low_memory=False.\n",
      "  exec(code_obj, self.user_global_ns, self.user_ns)\n"
     ]
    }
   ],
   "source": [
    "df = pd.read_csv('../data/intermediate/intermediate_tweets.csv', encoding='utf-8')"
   ],
   "metadata": {
    "collapsed": false,
    "pycharm": {
     "name": "#%%\n"
    }
   }
  },
  {
   "cell_type": "code",
   "execution_count": 3,
   "outputs": [
    {
     "name": "stdout",
     "output_type": "stream",
     "text": [
      "<class 'pandas.core.frame.DataFrame'>\n",
      "RangeIndex: 13099356 entries, 0 to 13099355\n",
      "Data columns (total 25 columns):\n",
      " #   Column  Dtype \n",
      "---  ------  ----- \n",
      " 0   0       object\n",
      " 1   1       object\n",
      " 2   2       object\n",
      " 3   3       object\n",
      " 4   4       object\n",
      " 5   5       object\n",
      " 6   6       object\n",
      " 7   7       object\n",
      " 8   8       object\n",
      " 9   9       object\n",
      " 10  10      object\n",
      " 11  11      object\n",
      " 12  12      object\n",
      " 13  13      object\n",
      " 14  14      object\n",
      " 15  15      object\n",
      " 16  16      object\n",
      " 17  17      object\n",
      " 18  18      object\n",
      " 19  19      object\n",
      " 20  20      object\n",
      " 21  21      object\n",
      " 22  22      object\n",
      " 23  23      object\n",
      " 24  24      object\n",
      "dtypes: object(25)\n",
      "memory usage: 2.4+ GB\n"
     ]
    }
   ],
   "source": [
    "df.info()"
   ],
   "metadata": {
    "collapsed": false,
    "pycharm": {
     "name": "#%%\n"
    }
   }
  },
  {
   "cell_type": "code",
   "execution_count": 4,
   "outputs": [
    {
     "data": {
      "text/plain": "0      1941504\n1      3477331\n2      5124825\n3      8024700\n4     10503336\n5     11558587\n6     12194230\n7     12547056\n8     12808504\n9     12965885\n10    13031872\n11    13068816\n12    13084361\n13    13092569\n14    13096555\n15    13098094\n16    13098635\n17    13099173\n18    13099301\n19    13099333\n20    13099345\n21    13099351\n22    13099352\n23    13099354\n24    13099355\ndtype: int64"
     },
     "execution_count": 4,
     "metadata": {},
     "output_type": "execute_result"
    }
   ],
   "source": [
    "df.isnull().sum()"
   ],
   "metadata": {
    "collapsed": false,
    "pycharm": {
     "name": "#%%\n"
    }
   }
  },
  {
   "cell_type": "code",
   "execution_count": 5,
   "outputs": [
    {
     "data": {
      "text/plain": "                                                   0            1  \\\n0  Niall actually called Zayn when his daughter w...  Music Genre   \n1  They really be updating the Johnny Depp and Am...        Brand   \n2  The #USPS is also corrupt.  They have gone pos...        Brand   \n3  No matter what happens, I did get here and I d...        Actor   \n4                  @SoftlySteph This is a good tweet        Brand   \n\n                2               3         4      5    6    7    8    9  ...  \\\n0          Person     Music Album  Musician    NaN  NaN  NaN  NaN  NaN  ...   \n1  Brand Category  Brand Vertical    Person  Actor  NaN  NaN  NaN  NaN  ...   \n2  Brand Category  Political Body       NaN    NaN  NaN  NaN  NaN  NaN  ...   \n3          Person             NaN       NaN    NaN  NaN  NaN  NaN  NaN  ...   \n4  Brand Category             NaN       NaN    NaN  NaN  NaN  NaN  NaN  ...   \n\n    15   16   17   18   19   20   21   22   23   24  \n0  NaN  NaN  NaN  NaN  NaN  NaN  NaN  NaN  NaN  NaN  \n1  NaN  NaN  NaN  NaN  NaN  NaN  NaN  NaN  NaN  NaN  \n2  NaN  NaN  NaN  NaN  NaN  NaN  NaN  NaN  NaN  NaN  \n3  NaN  NaN  NaN  NaN  NaN  NaN  NaN  NaN  NaN  NaN  \n4  NaN  NaN  NaN  NaN  NaN  NaN  NaN  NaN  NaN  NaN  \n\n[5 rows x 25 columns]",
      "text/html": "<div>\n<style scoped>\n    .dataframe tbody tr th:only-of-type {\n        vertical-align: middle;\n    }\n\n    .dataframe tbody tr th {\n        vertical-align: top;\n    }\n\n    .dataframe thead th {\n        text-align: right;\n    }\n</style>\n<table border=\"1\" class=\"dataframe\">\n  <thead>\n    <tr style=\"text-align: right;\">\n      <th></th>\n      <th>0</th>\n      <th>1</th>\n      <th>2</th>\n      <th>3</th>\n      <th>4</th>\n      <th>5</th>\n      <th>6</th>\n      <th>7</th>\n      <th>8</th>\n      <th>9</th>\n      <th>...</th>\n      <th>15</th>\n      <th>16</th>\n      <th>17</th>\n      <th>18</th>\n      <th>19</th>\n      <th>20</th>\n      <th>21</th>\n      <th>22</th>\n      <th>23</th>\n      <th>24</th>\n    </tr>\n  </thead>\n  <tbody>\n    <tr>\n      <th>0</th>\n      <td>Niall actually called Zayn when his daughter w...</td>\n      <td>Music Genre</td>\n      <td>Person</td>\n      <td>Music Album</td>\n      <td>Musician</td>\n      <td>NaN</td>\n      <td>NaN</td>\n      <td>NaN</td>\n      <td>NaN</td>\n      <td>NaN</td>\n      <td>...</td>\n      <td>NaN</td>\n      <td>NaN</td>\n      <td>NaN</td>\n      <td>NaN</td>\n      <td>NaN</td>\n      <td>NaN</td>\n      <td>NaN</td>\n      <td>NaN</td>\n      <td>NaN</td>\n      <td>NaN</td>\n    </tr>\n    <tr>\n      <th>1</th>\n      <td>They really be updating the Johnny Depp and Am...</td>\n      <td>Brand</td>\n      <td>Brand Category</td>\n      <td>Brand Vertical</td>\n      <td>Person</td>\n      <td>Actor</td>\n      <td>NaN</td>\n      <td>NaN</td>\n      <td>NaN</td>\n      <td>NaN</td>\n      <td>...</td>\n      <td>NaN</td>\n      <td>NaN</td>\n      <td>NaN</td>\n      <td>NaN</td>\n      <td>NaN</td>\n      <td>NaN</td>\n      <td>NaN</td>\n      <td>NaN</td>\n      <td>NaN</td>\n      <td>NaN</td>\n    </tr>\n    <tr>\n      <th>2</th>\n      <td>The #USPS is also corrupt.  They have gone pos...</td>\n      <td>Brand</td>\n      <td>Brand Category</td>\n      <td>Political Body</td>\n      <td>NaN</td>\n      <td>NaN</td>\n      <td>NaN</td>\n      <td>NaN</td>\n      <td>NaN</td>\n      <td>NaN</td>\n      <td>...</td>\n      <td>NaN</td>\n      <td>NaN</td>\n      <td>NaN</td>\n      <td>NaN</td>\n      <td>NaN</td>\n      <td>NaN</td>\n      <td>NaN</td>\n      <td>NaN</td>\n      <td>NaN</td>\n      <td>NaN</td>\n    </tr>\n    <tr>\n      <th>3</th>\n      <td>No matter what happens, I did get here and I d...</td>\n      <td>Actor</td>\n      <td>Person</td>\n      <td>NaN</td>\n      <td>NaN</td>\n      <td>NaN</td>\n      <td>NaN</td>\n      <td>NaN</td>\n      <td>NaN</td>\n      <td>NaN</td>\n      <td>...</td>\n      <td>NaN</td>\n      <td>NaN</td>\n      <td>NaN</td>\n      <td>NaN</td>\n      <td>NaN</td>\n      <td>NaN</td>\n      <td>NaN</td>\n      <td>NaN</td>\n      <td>NaN</td>\n      <td>NaN</td>\n    </tr>\n    <tr>\n      <th>4</th>\n      <td>@SoftlySteph This is a good tweet</td>\n      <td>Brand</td>\n      <td>Brand Category</td>\n      <td>NaN</td>\n      <td>NaN</td>\n      <td>NaN</td>\n      <td>NaN</td>\n      <td>NaN</td>\n      <td>NaN</td>\n      <td>NaN</td>\n      <td>...</td>\n      <td>NaN</td>\n      <td>NaN</td>\n      <td>NaN</td>\n      <td>NaN</td>\n      <td>NaN</td>\n      <td>NaN</td>\n      <td>NaN</td>\n      <td>NaN</td>\n      <td>NaN</td>\n      <td>NaN</td>\n    </tr>\n  </tbody>\n</table>\n<p>5 rows × 25 columns</p>\n</div>"
     },
     "execution_count": 5,
     "metadata": {},
     "output_type": "execute_result"
    }
   ],
   "source": [
    "df.head()"
   ],
   "metadata": {
    "collapsed": false,
    "pycharm": {
     "name": "#%%\n"
    }
   }
  },
  {
   "cell_type": "markdown",
   "source": [
    "Convert to multiclass problem from a multilabel problem"
   ],
   "metadata": {
    "collapsed": false,
    "pycharm": {
     "name": "#%% md\n"
    }
   }
  },
  {
   "cell_type": "code",
   "execution_count": 6,
   "outputs": [
    {
     "data": {
      "text/plain": "(9622025, 25)"
     },
     "execution_count": 6,
     "metadata": {},
     "output_type": "execute_result"
    }
   ],
   "source": [
    "# Drop rows will null tweets\n",
    "df_notnull = df.dropna(subset=['0', '1'])\n",
    "df_notnull.shape"
   ],
   "metadata": {
    "collapsed": false,
    "pycharm": {
     "name": "#%%\n"
    }
   }
  },
  {
   "cell_type": "code",
   "execution_count": 7,
   "outputs": [
    {
     "data": {
      "text/plain": "3477331"
     },
     "execution_count": 7,
     "metadata": {},
     "output_type": "execute_result"
    }
   ],
   "source": [
    "df.shape[0] - df_notnull.shape[0]"
   ],
   "metadata": {
    "collapsed": false,
    "pycharm": {
     "name": "#%%\n"
    }
   }
  },
  {
   "cell_type": "code",
   "execution_count": 8,
   "outputs": [
    {
     "data": {
      "text/plain": "Index(['tweet', 'context', '2', '3', '4', '5', '6', '7', '8', '9', '10', '11',\n       '12', '13', '14', '15', '16', '17', '18', '19', '20', '21', '22', '23',\n       '24'],\n      dtype='object')"
     },
     "execution_count": 8,
     "metadata": {},
     "output_type": "execute_result"
    }
   ],
   "source": [
    "# Rename columns\n",
    "rename = {'0': 'tweet', '1': 'context'}\n",
    "df_notnull = df_notnull.rename(columns=rename)\n",
    "df_notnull.columns"
   ],
   "metadata": {
    "collapsed": false,
    "pycharm": {
     "name": "#%%\n"
    }
   }
  },
  {
   "cell_type": "code",
   "execution_count": 9,
   "outputs": [
    {
     "data": {
      "text/plain": "array(['Music Genre', 'Brand', 'Actor', 'Video Game',\n       'Entities [Entity Service]', 'Holiday', 'Ongoing News Story',\n       'Cities', 'Brand Category', 'Events [Entity Service]',\n       'Brand Vertical', 'Musician', 'Politician',\n       'Interests and Hobbies Vertical', 'Person', 'TV Shows',\n       'Sports League', 'Interests and Hobbies Category',\n       'Interests and Hobbies', 'States', 'Colleges & Universities',\n       'Food', 'Multimedia Franchise', 'Reoccurring Trends',\n       'Movie Genre', 'Sports Team', 'Sports Personality',\n       'Baseball Game', 'Technology', 'Google Product Taxonomy',\n       'Video Game Personality ', 'Book Genre', 'Fan Community',\n       'Viral Accounts', 'Product', 'Movie', 'Exercise & fitness',\n       'Athlete', 'Digital Creator', 'Political Body', 'Political Race',\n       'Stocks', 'Award Show', 'Digital Assets & Crypto',\n       'Global TV Show', 'Coach', 'Esports Team', 'Music Album',\n       'TV Genres', 'Unified Twitter Taxonomy', 'Place', 'Sport',\n       'Local News', 'Video Game Publisher', 'Animals',\n       'Entertainment Personality', 'Video Game Conference', 'Concert',\n       'Video Game Hardware', 'Fields of study', 'Points of Interest',\n       'TV Channels', 'Journalist', 'Sports Event', 'TV Episodes', 'Book',\n       'Podcast', 'Weather', 'Radio Station', 'Product Version',\n       'Esports Player', 'Song', 'Movie Festival', 'Esports League',\n       'Travel', 'Basketball Game', 'Fictional Character', 'Hockey Game',\n       'Sports Series', 'Cricket Match', 'Video Game Tournament',\n       'American Football Game', 'Emergency events'], dtype=object)"
     },
     "execution_count": 9,
     "metadata": {},
     "output_type": "execute_result"
    }
   ],
   "source": [
    "df_ = df_notnull[['tweet', 'context']]\n",
    "labels = df_['context'].unique()\n",
    "labels"
   ],
   "metadata": {
    "collapsed": false,
    "pycharm": {
     "name": "#%%\n"
    }
   }
  },
  {
   "cell_type": "code",
   "execution_count": 10,
   "outputs": [
    {
     "data": {
      "text/plain": "{'Music Genre': 0,\n 'Brand': 1,\n 'Actor': 2,\n 'Video Game': 3,\n 'Entities [Entity Service]': 4,\n 'Holiday': 5,\n 'Ongoing News Story': 6,\n 'Cities': 7,\n 'Brand Category': 8,\n 'Events [Entity Service]': 9,\n 'Brand Vertical': 10,\n 'Musician': 11,\n 'Politician': 12,\n 'Interests and Hobbies Vertical': 13,\n 'Person': 14,\n 'TV Shows': 15,\n 'Sports League': 16,\n 'Interests and Hobbies Category': 17,\n 'Interests and Hobbies': 18,\n 'States': 19,\n 'Colleges & Universities': 20,\n 'Food': 21,\n 'Multimedia Franchise': 22,\n 'Reoccurring Trends': 23,\n 'Movie Genre': 24,\n 'Sports Team': 25,\n 'Sports Personality': 26,\n 'Baseball Game': 27,\n 'Technology': 28,\n 'Google Product Taxonomy': 29,\n 'Video Game Personality ': 30,\n 'Book Genre': 31,\n 'Fan Community': 32,\n 'Viral Accounts': 33,\n 'Product': 34,\n 'Movie': 35,\n 'Exercise & fitness': 36,\n 'Athlete': 37,\n 'Digital Creator': 38,\n 'Political Body': 39,\n 'Political Race': 40,\n 'Stocks': 41,\n 'Award Show': 42,\n 'Digital Assets & Crypto': 43,\n 'Global TV Show': 44,\n 'Coach': 45,\n 'Esports Team': 46,\n 'Music Album': 47,\n 'TV Genres': 48,\n 'Unified Twitter Taxonomy': 49,\n 'Place': 50,\n 'Sport': 51,\n 'Local News': 52,\n 'Video Game Publisher': 53,\n 'Animals': 54,\n 'Entertainment Personality': 55,\n 'Video Game Conference': 56,\n 'Concert': 57,\n 'Video Game Hardware': 58,\n 'Fields of study': 59,\n 'Points of Interest': 60,\n 'TV Channels': 61,\n 'Journalist': 62,\n 'Sports Event': 63,\n 'TV Episodes': 64,\n 'Book': 65,\n 'Podcast': 66,\n 'Weather': 67,\n 'Radio Station': 68,\n 'Product Version': 69,\n 'Esports Player': 70,\n 'Song': 71,\n 'Movie Festival': 72,\n 'Esports League': 73,\n 'Travel': 74,\n 'Basketball Game': 75,\n 'Fictional Character': 76,\n 'Hockey Game': 77,\n 'Sports Series': 78,\n 'Cricket Match': 79,\n 'Video Game Tournament': 80,\n 'American Football Game': 81,\n 'Emergency events': 82}"
     },
     "execution_count": 10,
     "metadata": {},
     "output_type": "execute_result"
    }
   ],
   "source": [
    "encoding = {label: i for i, label in enumerate(labels)}\n",
    "encoding"
   ],
   "metadata": {
    "collapsed": false,
    "pycharm": {
     "name": "#%%\n"
    }
   }
  },
  {
   "cell_type": "code",
   "execution_count": 11,
   "outputs": [
    {
     "data": {
      "text/plain": "0            0\n1            1\n2            1\n3            2\n4            1\n            ..\n13099351     0\n13099352     0\n13099353     0\n13099354    26\n13099355    22\nName: context, Length: 9622025, dtype: int64"
     },
     "execution_count": 11,
     "metadata": {},
     "output_type": "execute_result"
    }
   ],
   "source": [
    "label_encodings = df_['context'].map(encoding)\n",
    "label_encodings"
   ],
   "metadata": {
    "collapsed": false,
    "pycharm": {
     "name": "#%%\n"
    }
   }
  },
  {
   "cell_type": "code",
   "execution_count": 12,
   "outputs": [
    {
     "name": "stderr",
     "output_type": "stream",
     "text": [
      "/Users/Isaacbolo/opt/anaconda3/envs/deeplearning/lib/python3.7/site-packages/ipykernel_launcher.py:1: SettingWithCopyWarning: \n",
      "A value is trying to be set on a copy of a slice from a DataFrame.\n",
      "Try using .loc[row_indexer,col_indexer] = value instead\n",
      "\n",
      "See the caveats in the documentation: https://pandas.pydata.org/pandas-docs/stable/user_guide/indexing.html#returning-a-view-versus-a-copy\n",
      "  \"\"\"Entry point for launching an IPython kernel.\n"
     ]
    },
    {
     "data": {
      "text/plain": "                                               tweet      context  label\n0  Niall actually called Zayn when his daughter w...  Music Genre      0\n1  They really be updating the Johnny Depp and Am...        Brand      1\n2  The #USPS is also corrupt.  They have gone pos...        Brand      1\n3  No matter what happens, I did get here and I d...        Actor      2\n4                  @SoftlySteph This is a good tweet        Brand      1",
      "text/html": "<div>\n<style scoped>\n    .dataframe tbody tr th:only-of-type {\n        vertical-align: middle;\n    }\n\n    .dataframe tbody tr th {\n        vertical-align: top;\n    }\n\n    .dataframe thead th {\n        text-align: right;\n    }\n</style>\n<table border=\"1\" class=\"dataframe\">\n  <thead>\n    <tr style=\"text-align: right;\">\n      <th></th>\n      <th>tweet</th>\n      <th>context</th>\n      <th>label</th>\n    </tr>\n  </thead>\n  <tbody>\n    <tr>\n      <th>0</th>\n      <td>Niall actually called Zayn when his daughter w...</td>\n      <td>Music Genre</td>\n      <td>0</td>\n    </tr>\n    <tr>\n      <th>1</th>\n      <td>They really be updating the Johnny Depp and Am...</td>\n      <td>Brand</td>\n      <td>1</td>\n    </tr>\n    <tr>\n      <th>2</th>\n      <td>The #USPS is also corrupt.  They have gone pos...</td>\n      <td>Brand</td>\n      <td>1</td>\n    </tr>\n    <tr>\n      <th>3</th>\n      <td>No matter what happens, I did get here and I d...</td>\n      <td>Actor</td>\n      <td>2</td>\n    </tr>\n    <tr>\n      <th>4</th>\n      <td>@SoftlySteph This is a good tweet</td>\n      <td>Brand</td>\n      <td>1</td>\n    </tr>\n  </tbody>\n</table>\n</div>"
     },
     "execution_count": 12,
     "metadata": {},
     "output_type": "execute_result"
    }
   ],
   "source": [
    "df_['label'] = label_encodings\n",
    "df_.head()"
   ],
   "metadata": {
    "collapsed": false,
    "pycharm": {
     "name": "#%%\n"
    }
   }
  },
  {
   "cell_type": "code",
   "execution_count": 13,
   "outputs": [],
   "source": [
    "# Save encodings\n",
    "import json\n",
    "with open('../data/processed/context2label.json', 'w') as f:\n",
    "    f.write(json.dumps(encoding))"
   ],
   "metadata": {
    "collapsed": false,
    "pycharm": {
     "name": "#%%\n"
    }
   }
  },
  {
   "cell_type": "code",
   "execution_count": 31,
   "outputs": [
    {
     "name": "stdout",
     "output_type": "stream",
     "text": [
      "Collecting tweet-preprocessor\r\n",
      "  Downloading tweet_preprocessor-0.6.0-py3-none-any.whl (27 kB)\r\n",
      "Installing collected packages: tweet-preprocessor\r\n",
      "Successfully installed tweet-preprocessor-0.6.0\r\n"
     ]
    }
   ],
   "source": [
    "!pip install tweet-preprocessor"
   ],
   "metadata": {
    "collapsed": false,
    "pycharm": {
     "name": "#%%\n"
    }
   }
  },
  {
   "cell_type": "code",
   "execution_count": 14,
   "outputs": [],
   "source": [
    "import preprocessor as p\n",
    "import re\n",
    "p.set_options(p.OPT.URL, p.OPT.MENTION)"
   ],
   "metadata": {
    "collapsed": false,
    "pycharm": {
     "name": "#%%\n"
    }
   }
  },
  {
   "cell_type": "code",
   "execution_count": 15,
   "outputs": [],
   "source": [
    "def tweet_preprocessor(text):\n",
    "    return re.sub(r'#', '', p.clean(text)).lower()"
   ],
   "metadata": {
    "collapsed": false,
    "pycharm": {
     "name": "#%%\n"
    }
   }
  },
  {
   "cell_type": "code",
   "execution_count": 16,
   "outputs": [
    {
     "data": {
      "text/plain": "  0%|          | 0/9622025 [00:00<?, ?it/s]",
      "application/vnd.jupyter.widget-view+json": {
       "version_major": 2,
       "version_minor": 0,
       "model_id": "4d11288a3c514dccaf0a1edf3b244187"
      }
     },
     "metadata": {},
     "output_type": "display_data"
    },
    {
     "data": {
      "text/plain": "['niall actually called zayn when his daughter was born, streamed dusk till dawn on his live, made an effort to see him at the bmas after they separated and zayn said niall was his fave last year. yeah, i chose the right people to stan.',\n 'they really be updating the johnny depp and amber heard case like an espn sports ticker, shit is insane.',\n 'the usps is also corrupt. they have gone postal. we ought to close most of the list offices. let people use fedex or ups, or ponyexpress. never again.',\n 'no matter what happens, i did get here and i did tell the truth. -johnny depp neverfeartruth truthwins mentoo verdictwatch',\n 'this is a good tweet',\n 'mommy yelan 原神 genshinimpact yelan',\n 'i love bad comedy films so much like senior year is the best movie in cinematic history i am serious',\n \"literally spent five minutes browsing the pridemonth. already insufferable corporate pandering, clickbait, and my favorite, just the most annoying people you hope to never meet. don't hate the real lgbt people, hate these fucking circus preformers because they are just that.\",\n 'covid not getting milder, we are not gaining immunity. we are just catching it over and over. each time our immune systems are taking a hit and vaccines only offer 15% cover against longcovid',\n '220602 yuta posted a story of him at tokyo skytree ❤️ 유타 中本悠太 ユウタ',\n 'nj &amp; chris: can we talk abt the political and economic state of the world rn 2seok: hot ice cream 🤣🤣🤣🤣',\n 'extraordinary rendition is an international crime, kenya government and nigeria government committed it against a british citizen by name nnamdi kanu freemazinnamdikanunow freebiafra',\n 'the barney frank tweet. easily.',\n \"this was confusing to me, then on top of that put nicki on a ballot knowing damn well she don't fw bet cause they be on grimy shit.\",\n 'less than 1/3 of australians voted for your party and a lot of that was simply a protest against scomo, not for you. but sure, get to work...',\n 'check out this listing i just added to my poshmark closet: madewell womans black 9\" highrise skinny jeans size 23. shopmycloset',\n 'jungwon is so pocket size 😭',\n '📷 on tuesday, welcomed global k-pop phenomenon to the white house to discuss the need to come together in solidarity, asian inclusion and representation, and addressing anti-asian hate crimes and discrimination. aanhpihm',\n 'it’s pride month!!! where my lgbtq family?! 🌈😎',\n 'concept art | castlevania: symphony of the night artist: ayami kojima',\n 'thank you ji for your support for savesoil movement. we need government policies for soil revitalization . 🙏🙏👏👏🙌🙌😊😊 savesoil savesoilwave consciousplanet action',\n \"this isn't silly. adik nanti belajar betul2 pastu ambik biotechnology. boleh belajar environmental management. you're definitely gonna make the world a better place.\",\n '“both of them will work again, but i think it will be a while before a major studio will consider them ‘safe’ enough to bet on.”',\n 'what zubair-rana ayyub gang is doing now to is not new; nor will they stop it in future. they’ve no fear of law, because they know there’s always a judge who’d grant instant bail even under pocso act, or for whom a 10-20 cr scam is not a big one. rot is there.',\n '🚨obi-wan kenobi spoiler🚨 - - - - - - - - - - “i am what you made me” fucking hit me like a brick in the face, even though it was the most predictable line ever.',\n \"— 2022 bts festa — 🔮 family portrait 🔮 bts practice record '13-'22 🔮 bts selfie collection 21/22 🔮 2022 찐 방탄회식 (real bangtan dinner) 🔮 song for army bts9thanniversary we_were_only_seven\",\n \"she's the real victim😥, the smear campaign against her is so strong so i don't wonder why people favor depp\",\n 'last year the emote was dianaxleona',\n \"also slo mo the stats he shows are rusty's last three games when finger was supposedly healed by wilson account. face it bud ...wilson is washed\",\n 'gothic lolita fashion for halloween 🖤akumillust 🎨 ➔']"
     },
     "execution_count": 16,
     "metadata": {},
     "output_type": "execute_result"
    }
   ],
   "source": [
    "clean_tweets = []\n",
    "for tweet in tqdm(df_['tweet'].values):\n",
    "    clean_tweets.append(tweet_preprocessor(tweet))\n",
    "clean_tweets[:30]"
   ],
   "metadata": {
    "collapsed": false,
    "pycharm": {
     "name": "#%%\n"
    }
   }
  },
  {
   "cell_type": "code",
   "execution_count": 17,
   "outputs": [
    {
     "name": "stderr",
     "output_type": "stream",
     "text": [
      "/Users/Isaacbolo/opt/anaconda3/envs/deeplearning/lib/python3.7/site-packages/ipykernel_launcher.py:1: SettingWithCopyWarning: \n",
      "A value is trying to be set on a copy of a slice from a DataFrame.\n",
      "Try using .loc[row_indexer,col_indexer] = value instead\n",
      "\n",
      "See the caveats in the documentation: https://pandas.pydata.org/pandas-docs/stable/user_guide/indexing.html#returning-a-view-versus-a-copy\n",
      "  \"\"\"Entry point for launching an IPython kernel.\n"
     ]
    }
   ],
   "source": [
    "df_['tweet_clean'] = clean_tweets"
   ],
   "metadata": {
    "collapsed": false,
    "pycharm": {
     "name": "#%%\n"
    }
   }
  },
  {
   "cell_type": "code",
   "execution_count": 18,
   "outputs": [
    {
     "data": {
      "text/plain": "                                               tweet      context  label  \\\n0  Niall actually called Zayn when his daughter w...  Music Genre      0   \n1  They really be updating the Johnny Depp and Am...        Brand      1   \n2  The #USPS is also corrupt.  They have gone pos...        Brand      1   \n3  No matter what happens, I did get here and I d...        Actor      2   \n4                  @SoftlySteph This is a good tweet        Brand      1   \n\n                                         tweet_clean  \n0  niall actually called zayn when his daughter w...  \n1  they really be updating the johnny depp and am...  \n2  the usps is also corrupt. they have gone posta...  \n3  no matter what happens, i did get here and i d...  \n4                               this is a good tweet  ",
      "text/html": "<div>\n<style scoped>\n    .dataframe tbody tr th:only-of-type {\n        vertical-align: middle;\n    }\n\n    .dataframe tbody tr th {\n        vertical-align: top;\n    }\n\n    .dataframe thead th {\n        text-align: right;\n    }\n</style>\n<table border=\"1\" class=\"dataframe\">\n  <thead>\n    <tr style=\"text-align: right;\">\n      <th></th>\n      <th>tweet</th>\n      <th>context</th>\n      <th>label</th>\n      <th>tweet_clean</th>\n    </tr>\n  </thead>\n  <tbody>\n    <tr>\n      <th>0</th>\n      <td>Niall actually called Zayn when his daughter w...</td>\n      <td>Music Genre</td>\n      <td>0</td>\n      <td>niall actually called zayn when his daughter w...</td>\n    </tr>\n    <tr>\n      <th>1</th>\n      <td>They really be updating the Johnny Depp and Am...</td>\n      <td>Brand</td>\n      <td>1</td>\n      <td>they really be updating the johnny depp and am...</td>\n    </tr>\n    <tr>\n      <th>2</th>\n      <td>The #USPS is also corrupt.  They have gone pos...</td>\n      <td>Brand</td>\n      <td>1</td>\n      <td>the usps is also corrupt. they have gone posta...</td>\n    </tr>\n    <tr>\n      <th>3</th>\n      <td>No matter what happens, I did get here and I d...</td>\n      <td>Actor</td>\n      <td>2</td>\n      <td>no matter what happens, i did get here and i d...</td>\n    </tr>\n    <tr>\n      <th>4</th>\n      <td>@SoftlySteph This is a good tweet</td>\n      <td>Brand</td>\n      <td>1</td>\n      <td>this is a good tweet</td>\n    </tr>\n  </tbody>\n</table>\n</div>"
     },
     "execution_count": 18,
     "metadata": {},
     "output_type": "execute_result"
    }
   ],
   "source": [
    "df_.head()"
   ],
   "metadata": {
    "collapsed": false,
    "pycharm": {
     "name": "#%%\n"
    }
   }
  },
  {
   "cell_type": "code",
   "execution_count": 19,
   "outputs": [
    {
     "data": {
      "text/plain": "tweet          0\ncontext        0\nlabel          0\ntweet_clean    0\ndtype: int64"
     },
     "execution_count": 19,
     "metadata": {},
     "output_type": "execute_result"
    }
   ],
   "source": [
    "df_.isnull().sum()"
   ],
   "metadata": {
    "collapsed": false,
    "pycharm": {
     "name": "#%%\n"
    }
   }
  },
  {
   "cell_type": "code",
   "execution_count": 20,
   "outputs": [],
   "source": [
    "# Split data. Do one for a sample and complete dataset\n",
    "from sklearn.model_selection import train_test_split"
   ],
   "metadata": {
    "collapsed": false,
    "pycharm": {
     "name": "#%%\n"
    }
   }
  },
  {
   "cell_type": "code",
   "execution_count": 33,
   "outputs": [],
   "source": [
    "df_sample = df_.sample(1_000_000)\n",
    "train_sm, test_sm = train_test_split(df_sample, test_size=1/3, shuffle=True)\n",
    "train_lg, test_lg = train_test_split(df_, test_size=1/3, shuffle=True)"
   ],
   "metadata": {
    "collapsed": false,
    "pycharm": {
     "name": "#%%\n"
    }
   }
  },
  {
   "cell_type": "code",
   "execution_count": 34,
   "outputs": [],
   "source": [
    "train_sm.reset_index(drop=True, inplace=True)\n",
    "test_sm.reset_index(drop=True, inplace=True)\n",
    "train_lg.reset_index(drop=True, inplace=True)\n",
    "test_lg.reset_index(drop=True, inplace=True)"
   ],
   "metadata": {
    "collapsed": false,
    "pycharm": {
     "name": "#%%\n"
    }
   }
  },
  {
   "cell_type": "code",
   "execution_count": 35,
   "outputs": [
    {
     "data": {
      "text/plain": "(666666, 333334, 6414683, 3207342)"
     },
     "execution_count": 35,
     "metadata": {},
     "output_type": "execute_result"
    }
   ],
   "source": [
    "train_sm.shape[0], test_sm.shape[0], train_lg.shape[0], test_lg.shape[0]"
   ],
   "metadata": {
    "collapsed": false,
    "pycharm": {
     "name": "#%%\n"
    }
   }
  },
  {
   "cell_type": "code",
   "execution_count": 36,
   "outputs": [
    {
     "data": {
      "text/plain": "(tweet          False\n context        False\n label          False\n tweet_clean    False\n dtype: bool,\n tweet          False\n context        False\n label          False\n tweet_clean    False\n dtype: bool,\n tweet          False\n context        False\n label          False\n tweet_clean    False\n dtype: bool,\n tweet          False\n context        False\n label          False\n tweet_clean    False\n dtype: bool)"
     },
     "execution_count": 36,
     "metadata": {},
     "output_type": "execute_result"
    }
   ],
   "source": [
    "# check if there are any null values in any of the splits.\n",
    "train_sm.isnull().any(), test_sm.isnull().any(), train_lg.isnull().any(), test_lg.isnull().any()"
   ],
   "metadata": {
    "collapsed": false,
    "pycharm": {
     "name": "#%%\n"
    }
   }
  },
  {
   "cell_type": "code",
   "execution_count": 37,
   "outputs": [
    {
     "data": {
      "text/plain": "                                               tweet     context  label  \\\n0  just finished downloading fall guys!!! gonna p...  Video Game      3   \n1  Good thread on kink &amp; pride https://t.co/m...     Holiday      5   \n2  $200 | 2.8 JT • 24 hrs • rt\\n\\n➡️ $100 - follo...  Technology     28   \n\n                                         tweet_clean  \n0  just finished downloading fall guys!!! gonna p...  \n1                    good thread on kink &amp; pride  \n2  $200 | 2.8 jt • 24 hrs • rt ➡️ $100 - follow ✳...  ",
      "text/html": "<div>\n<style scoped>\n    .dataframe tbody tr th:only-of-type {\n        vertical-align: middle;\n    }\n\n    .dataframe tbody tr th {\n        vertical-align: top;\n    }\n\n    .dataframe thead th {\n        text-align: right;\n    }\n</style>\n<table border=\"1\" class=\"dataframe\">\n  <thead>\n    <tr style=\"text-align: right;\">\n      <th></th>\n      <th>tweet</th>\n      <th>context</th>\n      <th>label</th>\n      <th>tweet_clean</th>\n    </tr>\n  </thead>\n  <tbody>\n    <tr>\n      <th>0</th>\n      <td>just finished downloading fall guys!!! gonna p...</td>\n      <td>Video Game</td>\n      <td>3</td>\n      <td>just finished downloading fall guys!!! gonna p...</td>\n    </tr>\n    <tr>\n      <th>1</th>\n      <td>Good thread on kink &amp;amp; pride https://t.co/m...</td>\n      <td>Holiday</td>\n      <td>5</td>\n      <td>good thread on kink &amp;amp; pride</td>\n    </tr>\n    <tr>\n      <th>2</th>\n      <td>$200 | 2.8 JT • 24 hrs • rt\\n\\n➡️ $100 - follo...</td>\n      <td>Technology</td>\n      <td>28</td>\n      <td>$200 | 2.8 jt • 24 hrs • rt ➡️ $100 - follow ✳...</td>\n    </tr>\n  </tbody>\n</table>\n</div>"
     },
     "execution_count": 37,
     "metadata": {},
     "output_type": "execute_result"
    }
   ],
   "source": [
    "train_sm.head(3)"
   ],
   "metadata": {
    "collapsed": false,
    "pycharm": {
     "name": "#%%\n"
    }
   }
  },
  {
   "cell_type": "markdown",
   "source": [
    "Save as parquet"
   ],
   "metadata": {
    "collapsed": false,
    "pycharm": {
     "name": "#%% md\n"
    }
   }
  },
  {
   "cell_type": "code",
   "execution_count": 38,
   "outputs": [],
   "source": [
    "train_sm.to_parquet('../data/processed/sm/train_sm.gzip', index=None)\n",
    "test_sm.to_parquet('../data/processed/sm/test_sm.gzip', index=None)"
   ],
   "metadata": {
    "collapsed": false,
    "pycharm": {
     "name": "#%%\n"
    }
   }
  },
  {
   "cell_type": "code",
   "execution_count": 39,
   "outputs": [],
   "source": [
    "train_lg.to_parquet('../data/processed/lg/train_lg.gzip', index=None)\n",
    "test_lg.to_parquet('../data/processed/lg/test_lg.gzip', index=None)"
   ],
   "metadata": {
    "collapsed": false,
    "pycharm": {
     "name": "#%%\n"
    }
   }
  },
  {
   "cell_type": "markdown",
   "source": [
    "Save as csv, but this loses data"
   ],
   "metadata": {
    "collapsed": false,
    "pycharm": {
     "name": "#%% md\n"
    }
   }
  },
  {
   "cell_type": "code",
   "execution_count": 26,
   "outputs": [],
   "source": [
    "train_sm.to_csv('../data/processed/sm/train_sm.csv', index=None, encoding='utf-8')\n",
    "test_sm.to_csv('../data/processed/sm/test_sm.csv', index=None, encoding='utf-8')"
   ],
   "metadata": {
    "collapsed": false,
    "pycharm": {
     "name": "#%%\n"
    }
   }
  },
  {
   "cell_type": "code",
   "execution_count": 27,
   "outputs": [],
   "source": [
    "train_lg.to_csv('../data/processed/lg/train_lg.csv', index=None, encoding='utf-8')\n",
    "test_lg.to_csv('../data/processed/lg/test_lg.csv', index=None, encoding='utf-8')"
   ],
   "metadata": {
    "collapsed": false,
    "pycharm": {
     "name": "#%%\n"
    }
   }
  },
  {
   "cell_type": "code",
   "execution_count": null,
   "outputs": [],
   "source": [],
   "metadata": {
    "collapsed": false,
    "pycharm": {
     "name": "#%%\n"
    }
   }
  }
 ],
 "metadata": {
  "kernelspec": {
   "display_name": "Python 3",
   "language": "python",
   "name": "python3"
  },
  "language_info": {
   "codemirror_mode": {
    "name": "ipython",
    "version": 2
   },
   "file_extension": ".py",
   "mimetype": "text/x-python",
   "name": "python",
   "nbconvert_exporter": "python",
   "pygments_lexer": "ipython2",
   "version": "2.7.6"
  }
 },
 "nbformat": 4,
 "nbformat_minor": 0
}